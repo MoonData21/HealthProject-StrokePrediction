{
 "cells": [
  {
   "cell_type": "code",
   "execution_count": 3,
   "id": "d5c5f832-2ed6-4713-8b01-79449e6ee578",
   "metadata": {},
   "outputs": [],
   "source": [
    "import pandas as pd\n",
    "import numpy as np\n",
    "import seaborn as sns\n",
    "import matplotlib.pyplot as plt"
   ]
  },
  {
   "cell_type": "code",
   "execution_count": 7,
   "id": "df7720af-2e21-419b-8102-7530cce18695",
   "metadata": {},
   "outputs": [],
   "source": [
    "df = pd.read_csv('Data/StrokeDataset.csv')"
   ]
  },
  {
   "cell_type": "code",
   "execution_count": 9,
   "id": "35563878-48c9-46fd-b15d-be20805ae4e5",
   "metadata": {},
   "outputs": [
    {
     "data": {
      "text/html": [
       "<div>\n",
       "<style scoped>\n",
       "    .dataframe tbody tr th:only-of-type {\n",
       "        vertical-align: middle;\n",
       "    }\n",
       "\n",
       "    .dataframe tbody tr th {\n",
       "        vertical-align: top;\n",
       "    }\n",
       "\n",
       "    .dataframe thead th {\n",
       "        text-align: right;\n",
       "    }\n",
       "</style>\n",
       "<table border=\"1\" class=\"dataframe\">\n",
       "  <thead>\n",
       "    <tr style=\"text-align: right;\">\n",
       "      <th></th>\n",
       "      <th>id</th>\n",
       "      <th>gender</th>\n",
       "      <th>age</th>\n",
       "      <th>hypertension</th>\n",
       "      <th>heart_disease</th>\n",
       "      <th>ever_married</th>\n",
       "      <th>work_type</th>\n",
       "      <th>Residence_type</th>\n",
       "      <th>avg_glucose_level</th>\n",
       "      <th>bmi</th>\n",
       "      <th>smoking_status</th>\n",
       "      <th>stroke</th>\n",
       "    </tr>\n",
       "  </thead>\n",
       "  <tbody>\n",
       "    <tr>\n",
       "      <th>0</th>\n",
       "      <td>9046</td>\n",
       "      <td>Male</td>\n",
       "      <td>67.0</td>\n",
       "      <td>0</td>\n",
       "      <td>1</td>\n",
       "      <td>Yes</td>\n",
       "      <td>Private</td>\n",
       "      <td>Urban</td>\n",
       "      <td>228.69</td>\n",
       "      <td>36.6</td>\n",
       "      <td>formerly smoked</td>\n",
       "      <td>1</td>\n",
       "    </tr>\n",
       "    <tr>\n",
       "      <th>1</th>\n",
       "      <td>51676</td>\n",
       "      <td>Female</td>\n",
       "      <td>61.0</td>\n",
       "      <td>0</td>\n",
       "      <td>0</td>\n",
       "      <td>Yes</td>\n",
       "      <td>Self-employed</td>\n",
       "      <td>Rural</td>\n",
       "      <td>202.21</td>\n",
       "      <td>NaN</td>\n",
       "      <td>never smoked</td>\n",
       "      <td>1</td>\n",
       "    </tr>\n",
       "    <tr>\n",
       "      <th>2</th>\n",
       "      <td>31112</td>\n",
       "      <td>Male</td>\n",
       "      <td>80.0</td>\n",
       "      <td>0</td>\n",
       "      <td>1</td>\n",
       "      <td>Yes</td>\n",
       "      <td>Private</td>\n",
       "      <td>Rural</td>\n",
       "      <td>105.92</td>\n",
       "      <td>32.5</td>\n",
       "      <td>never smoked</td>\n",
       "      <td>1</td>\n",
       "    </tr>\n",
       "    <tr>\n",
       "      <th>3</th>\n",
       "      <td>60182</td>\n",
       "      <td>Female</td>\n",
       "      <td>49.0</td>\n",
       "      <td>0</td>\n",
       "      <td>0</td>\n",
       "      <td>Yes</td>\n",
       "      <td>Private</td>\n",
       "      <td>Urban</td>\n",
       "      <td>171.23</td>\n",
       "      <td>34.4</td>\n",
       "      <td>smokes</td>\n",
       "      <td>1</td>\n",
       "    </tr>\n",
       "    <tr>\n",
       "      <th>4</th>\n",
       "      <td>1665</td>\n",
       "      <td>Female</td>\n",
       "      <td>79.0</td>\n",
       "      <td>1</td>\n",
       "      <td>0</td>\n",
       "      <td>Yes</td>\n",
       "      <td>Self-employed</td>\n",
       "      <td>Rural</td>\n",
       "      <td>174.12</td>\n",
       "      <td>24.0</td>\n",
       "      <td>never smoked</td>\n",
       "      <td>1</td>\n",
       "    </tr>\n",
       "  </tbody>\n",
       "</table>\n",
       "</div>"
      ],
      "text/plain": [
       "      id  gender   age  hypertension  heart_disease ever_married  \\\n",
       "0   9046    Male  67.0             0              1          Yes   \n",
       "1  51676  Female  61.0             0              0          Yes   \n",
       "2  31112    Male  80.0             0              1          Yes   \n",
       "3  60182  Female  49.0             0              0          Yes   \n",
       "4   1665  Female  79.0             1              0          Yes   \n",
       "\n",
       "       work_type Residence_type  avg_glucose_level   bmi   smoking_status  \\\n",
       "0        Private          Urban             228.69  36.6  formerly smoked   \n",
       "1  Self-employed          Rural             202.21   NaN     never smoked   \n",
       "2        Private          Rural             105.92  32.5     never smoked   \n",
       "3        Private          Urban             171.23  34.4           smokes   \n",
       "4  Self-employed          Rural             174.12  24.0     never smoked   \n",
       "\n",
       "   stroke  \n",
       "0       1  \n",
       "1       1  \n",
       "2       1  \n",
       "3       1  \n",
       "4       1  "
      ]
     },
     "execution_count": 9,
     "metadata": {},
     "output_type": "execute_result"
    }
   ],
   "source": [
    "df.head(5)"
   ]
  },
  {
   "cell_type": "markdown",
   "id": "d1d3946e-c859-4658-8fd5-09359ee7c658",
   "metadata": {},
   "source": [
    "#### Exploratory Data Analysis"
   ]
  },
  {
   "cell_type": "code",
   "execution_count": 14,
   "id": "75c58fec-3ff4-428c-9226-b3f535070a66",
   "metadata": {},
   "outputs": [
    {
     "name": "stdout",
     "output_type": "stream",
     "text": [
      "<class 'pandas.core.frame.DataFrame'>\n",
      "RangeIndex: 5110 entries, 0 to 5109\n",
      "Data columns (total 12 columns):\n",
      " #   Column             Non-Null Count  Dtype  \n",
      "---  ------             --------------  -----  \n",
      " 0   id                 5110 non-null   int64  \n",
      " 1   gender             5110 non-null   object \n",
      " 2   age                5110 non-null   float64\n",
      " 3   hypertension       5110 non-null   int64  \n",
      " 4   heart_disease      5110 non-null   int64  \n",
      " 5   ever_married       5110 non-null   object \n",
      " 6   work_type          5110 non-null   object \n",
      " 7   Residence_type     5110 non-null   object \n",
      " 8   avg_glucose_level  5110 non-null   float64\n",
      " 9   bmi                4909 non-null   float64\n",
      " 10  smoking_status     5110 non-null   object \n",
      " 11  stroke             5110 non-null   int64  \n",
      "dtypes: float64(3), int64(4), object(5)\n",
      "memory usage: 479.2+ KB\n"
     ]
    }
   ],
   "source": [
    "df.info()"
   ]
  },
  {
   "cell_type": "code",
   "execution_count": 16,
   "id": "0208e859-3d7f-4a51-b7e0-eb28751f066c",
   "metadata": {},
   "outputs": [
    {
     "data": {
      "text/html": [
       "<div>\n",
       "<style scoped>\n",
       "    .dataframe tbody tr th:only-of-type {\n",
       "        vertical-align: middle;\n",
       "    }\n",
       "\n",
       "    .dataframe tbody tr th {\n",
       "        vertical-align: top;\n",
       "    }\n",
       "\n",
       "    .dataframe thead th {\n",
       "        text-align: right;\n",
       "    }\n",
       "</style>\n",
       "<table border=\"1\" class=\"dataframe\">\n",
       "  <thead>\n",
       "    <tr style=\"text-align: right;\">\n",
       "      <th></th>\n",
       "      <th>count</th>\n",
       "      <th>mean</th>\n",
       "      <th>std</th>\n",
       "      <th>min</th>\n",
       "      <th>25%</th>\n",
       "      <th>50%</th>\n",
       "      <th>75%</th>\n",
       "      <th>max</th>\n",
       "    </tr>\n",
       "    <tr>\n",
       "      <th>gender</th>\n",
       "      <th></th>\n",
       "      <th></th>\n",
       "      <th></th>\n",
       "      <th></th>\n",
       "      <th></th>\n",
       "      <th></th>\n",
       "      <th></th>\n",
       "      <th></th>\n",
       "    </tr>\n",
       "  </thead>\n",
       "  <tbody>\n",
       "    <tr>\n",
       "      <th>Female</th>\n",
       "      <td>2897.0</td>\n",
       "      <td>29.065758</td>\n",
       "      <td>8.110783</td>\n",
       "      <td>10.3</td>\n",
       "      <td>23.4</td>\n",
       "      <td>27.8</td>\n",
       "      <td>33.5</td>\n",
       "      <td>78.0</td>\n",
       "    </tr>\n",
       "    <tr>\n",
       "      <th>Male</th>\n",
       "      <td>2011.0</td>\n",
       "      <td>28.647936</td>\n",
       "      <td>7.464493</td>\n",
       "      <td>11.5</td>\n",
       "      <td>24.0</td>\n",
       "      <td>28.4</td>\n",
       "      <td>32.5</td>\n",
       "      <td>97.6</td>\n",
       "    </tr>\n",
       "    <tr>\n",
       "      <th>Other</th>\n",
       "      <td>1.0</td>\n",
       "      <td>22.400000</td>\n",
       "      <td>NaN</td>\n",
       "      <td>22.4</td>\n",
       "      <td>22.4</td>\n",
       "      <td>22.4</td>\n",
       "      <td>22.4</td>\n",
       "      <td>22.4</td>\n",
       "    </tr>\n",
       "  </tbody>\n",
       "</table>\n",
       "</div>"
      ],
      "text/plain": [
       "         count       mean       std   min   25%   50%   75%   max\n",
       "gender                                                           \n",
       "Female  2897.0  29.065758  8.110783  10.3  23.4  27.8  33.5  78.0\n",
       "Male    2011.0  28.647936  7.464493  11.5  24.0  28.4  32.5  97.6\n",
       "Other      1.0  22.400000       NaN  22.4  22.4  22.4  22.4  22.4"
      ]
     },
     "execution_count": 16,
     "metadata": {},
     "output_type": "execute_result"
    }
   ],
   "source": [
    "df.groupby('gender')['bmi'].describe()"
   ]
  },
  {
   "cell_type": "code",
   "execution_count": 20,
   "id": "bc70c597-bb12-4caf-bed0-fb486ab3b8f8",
   "metadata": {},
   "outputs": [
    {
     "data": {
      "text/html": [
       "<div>\n",
       "<style scoped>\n",
       "    .dataframe tbody tr th:only-of-type {\n",
       "        vertical-align: middle;\n",
       "    }\n",
       "\n",
       "    .dataframe tbody tr th {\n",
       "        vertical-align: top;\n",
       "    }\n",
       "\n",
       "    .dataframe thead th {\n",
       "        text-align: right;\n",
       "    }\n",
       "</style>\n",
       "<table border=\"1\" class=\"dataframe\">\n",
       "  <thead>\n",
       "    <tr style=\"text-align: right;\">\n",
       "      <th></th>\n",
       "      <th>count</th>\n",
       "      <th>mean</th>\n",
       "      <th>std</th>\n",
       "      <th>min</th>\n",
       "      <th>25%</th>\n",
       "      <th>50%</th>\n",
       "      <th>75%</th>\n",
       "      <th>max</th>\n",
       "    </tr>\n",
       "    <tr>\n",
       "      <th>gender</th>\n",
       "      <th></th>\n",
       "      <th></th>\n",
       "      <th></th>\n",
       "      <th></th>\n",
       "      <th></th>\n",
       "      <th></th>\n",
       "      <th></th>\n",
       "      <th></th>\n",
       "    </tr>\n",
       "  </thead>\n",
       "  <tbody>\n",
       "    <tr>\n",
       "      <th>Female</th>\n",
       "      <td>2994.0</td>\n",
       "      <td>104.057809</td>\n",
       "      <td>43.590651</td>\n",
       "      <td>55.12</td>\n",
       "      <td>76.4325</td>\n",
       "      <td>90.755</td>\n",
       "      <td>112.1825</td>\n",
       "      <td>267.76</td>\n",
       "    </tr>\n",
       "    <tr>\n",
       "      <th>Male</th>\n",
       "      <td>2115.0</td>\n",
       "      <td>109.088520</td>\n",
       "      <td>47.434840</td>\n",
       "      <td>55.22</td>\n",
       "      <td>78.3700</td>\n",
       "      <td>93.550</td>\n",
       "      <td>117.7300</td>\n",
       "      <td>271.74</td>\n",
       "    </tr>\n",
       "    <tr>\n",
       "      <th>Other</th>\n",
       "      <td>1.0</td>\n",
       "      <td>143.330000</td>\n",
       "      <td>NaN</td>\n",
       "      <td>143.33</td>\n",
       "      <td>143.3300</td>\n",
       "      <td>143.330</td>\n",
       "      <td>143.3300</td>\n",
       "      <td>143.33</td>\n",
       "    </tr>\n",
       "  </tbody>\n",
       "</table>\n",
       "</div>"
      ],
      "text/plain": [
       "         count        mean        std     min       25%      50%       75%  \\\n",
       "gender                                                                       \n",
       "Female  2994.0  104.057809  43.590651   55.12   76.4325   90.755  112.1825   \n",
       "Male    2115.0  109.088520  47.434840   55.22   78.3700   93.550  117.7300   \n",
       "Other      1.0  143.330000        NaN  143.33  143.3300  143.330  143.3300   \n",
       "\n",
       "           max  \n",
       "gender          \n",
       "Female  267.76  \n",
       "Male    271.74  \n",
       "Other   143.33  "
      ]
     },
     "execution_count": 20,
     "metadata": {},
     "output_type": "execute_result"
    }
   ],
   "source": [
    "df.groupby('gender')['avg_glucose_level'].describe()"
   ]
  },
  {
   "cell_type": "code",
   "execution_count": 55,
   "id": "9bf66ab1-5125-40d3-8f1e-916031f1a09f",
   "metadata": {},
   "outputs": [
    {
     "data": {
      "text/plain": [
       "gender  smoking_status \n",
       "Female  never smoked       1229\n",
       "        Unknown             836\n",
       "        formerly smoked     477\n",
       "        smokes              452\n",
       "Male    Unknown             708\n",
       "        never smoked        663\n",
       "        formerly smoked     407\n",
       "        smokes              337\n",
       "Other   formerly smoked       1\n",
       "Name: count, dtype: int64"
      ]
     },
     "execution_count": 55,
     "metadata": {},
     "output_type": "execute_result"
    }
   ],
   "source": [
    "df.groupby('gender')['smoking_status'].value_counts()"
   ]
  },
  {
   "cell_type": "code",
   "execution_count": 69,
   "id": "d260ab51-6763-42a2-b759-c0e60d8e7db7",
   "metadata": {},
   "outputs": [
    {
     "data": {
      "text/plain": [
       "gender  stroke\n",
       "Female  0         2853\n",
       "        1          141\n",
       "Male    0         2007\n",
       "        1          108\n",
       "Other   0            1\n",
       "Name: count, dtype: int64"
      ]
     },
     "execution_count": 69,
     "metadata": {},
     "output_type": "execute_result"
    }
   ],
   "source": [
    "df.groupby('gender')['stroke'].value_counts()"
   ]
  },
  {
   "cell_type": "code",
   "execution_count": 18,
   "id": "d6c06bfa-83d6-4ada-b814-5699f6139bde",
   "metadata": {},
   "outputs": [
    {
     "data": {
      "text/plain": [
       "id                     0\n",
       "gender                 0\n",
       "age                    0\n",
       "hypertension           0\n",
       "heart_disease          0\n",
       "ever_married           0\n",
       "work_type              0\n",
       "Residence_type         0\n",
       "avg_glucose_level      0\n",
       "bmi                  201\n",
       "smoking_status         0\n",
       "stroke                 0\n",
       "dtype: int64"
      ]
     },
     "execution_count": 18,
     "metadata": {},
     "output_type": "execute_result"
    }
   ],
   "source": [
    "df.isnull().sum()"
   ]
  },
  {
   "cell_type": "code",
   "execution_count": 26,
   "id": "48e04d26-5fa9-40c9-90aa-844c3a350b26",
   "metadata": {},
   "outputs": [],
   "source": [
    "df['bmi'] = df['bmi'].fillna(df['bmi'].mean())"
   ]
  },
  {
   "cell_type": "code",
   "execution_count": 28,
   "id": "d9a2d397-b63a-4c54-959e-ec303f1db9fe",
   "metadata": {},
   "outputs": [
    {
     "data": {
      "text/plain": [
       "id                   0\n",
       "gender               0\n",
       "age                  0\n",
       "hypertension         0\n",
       "heart_disease        0\n",
       "ever_married         0\n",
       "work_type            0\n",
       "Residence_type       0\n",
       "avg_glucose_level    0\n",
       "bmi                  0\n",
       "smoking_status       0\n",
       "stroke               0\n",
       "dtype: int64"
      ]
     },
     "execution_count": 28,
     "metadata": {},
     "output_type": "execute_result"
    }
   ],
   "source": [
    "df.isnull().sum()"
   ]
  },
  {
   "cell_type": "code",
   "execution_count": 33,
   "id": "f448c06a-ad3a-442f-bc5a-c77b8da8800e",
   "metadata": {},
   "outputs": [],
   "source": [
    "health = df.copy()"
   ]
  },
  {
   "cell_type": "markdown",
   "id": "e740e5fb-39db-4147-bdcd-834ac4a485b5",
   "metadata": {},
   "source": [
    "#### Enconded"
   ]
  },
  {
   "cell_type": "code",
   "execution_count": 37,
   "id": "35e617dd-9426-4706-9b6c-252391af2eba",
   "metadata": {},
   "outputs": [],
   "source": [
    "categorical_cols = ['gender','ever_married','work_type','Residence_type','smoking_status']"
   ]
  },
  {
   "cell_type": "code",
   "execution_count": 39,
   "id": "f104b6a2-f8fa-47d9-b06e-fa83e094f1fa",
   "metadata": {},
   "outputs": [],
   "source": [
    "from sklearn.preprocessing import OrdinalEncoder"
   ]
  },
  {
   "cell_type": "code",
   "execution_count": 41,
   "id": "67d530d0-1b70-40b7-9be5-f2c8869b2e4b",
   "metadata": {},
   "outputs": [],
   "source": [
    "oe = OrdinalEncoder()\n",
    "health[categorical_cols] = oe.fit_transform(health[categorical_cols])"
   ]
  },
  {
   "cell_type": "code",
   "execution_count": 43,
   "id": "a2e4129b-24d7-4213-b52d-6aa91117ef80",
   "metadata": {},
   "outputs": [
    {
     "data": {
      "text/html": [
       "<div>\n",
       "<style scoped>\n",
       "    .dataframe tbody tr th:only-of-type {\n",
       "        vertical-align: middle;\n",
       "    }\n",
       "\n",
       "    .dataframe tbody tr th {\n",
       "        vertical-align: top;\n",
       "    }\n",
       "\n",
       "    .dataframe thead th {\n",
       "        text-align: right;\n",
       "    }\n",
       "</style>\n",
       "<table border=\"1\" class=\"dataframe\">\n",
       "  <thead>\n",
       "    <tr style=\"text-align: right;\">\n",
       "      <th></th>\n",
       "      <th>id</th>\n",
       "      <th>gender</th>\n",
       "      <th>age</th>\n",
       "      <th>hypertension</th>\n",
       "      <th>heart_disease</th>\n",
       "      <th>ever_married</th>\n",
       "      <th>work_type</th>\n",
       "      <th>Residence_type</th>\n",
       "      <th>avg_glucose_level</th>\n",
       "      <th>bmi</th>\n",
       "      <th>smoking_status</th>\n",
       "      <th>stroke</th>\n",
       "    </tr>\n",
       "  </thead>\n",
       "  <tbody>\n",
       "    <tr>\n",
       "      <th>0</th>\n",
       "      <td>9046</td>\n",
       "      <td>1.0</td>\n",
       "      <td>67.0</td>\n",
       "      <td>0</td>\n",
       "      <td>1</td>\n",
       "      <td>1.0</td>\n",
       "      <td>2.0</td>\n",
       "      <td>1.0</td>\n",
       "      <td>228.69</td>\n",
       "      <td>36.6</td>\n",
       "      <td>1.0</td>\n",
       "      <td>1</td>\n",
       "    </tr>\n",
       "    <tr>\n",
       "      <th>1</th>\n",
       "      <td>51676</td>\n",
       "      <td>0.0</td>\n",
       "      <td>61.0</td>\n",
       "      <td>0</td>\n",
       "      <td>0</td>\n",
       "      <td>1.0</td>\n",
       "      <td>3.0</td>\n",
       "      <td>0.0</td>\n",
       "      <td>202.21</td>\n",
       "      <td>28.0</td>\n",
       "      <td>2.0</td>\n",
       "      <td>1</td>\n",
       "    </tr>\n",
       "    <tr>\n",
       "      <th>2</th>\n",
       "      <td>31112</td>\n",
       "      <td>1.0</td>\n",
       "      <td>80.0</td>\n",
       "      <td>0</td>\n",
       "      <td>1</td>\n",
       "      <td>1.0</td>\n",
       "      <td>2.0</td>\n",
       "      <td>0.0</td>\n",
       "      <td>105.92</td>\n",
       "      <td>32.5</td>\n",
       "      <td>2.0</td>\n",
       "      <td>1</td>\n",
       "    </tr>\n",
       "    <tr>\n",
       "      <th>3</th>\n",
       "      <td>60182</td>\n",
       "      <td>0.0</td>\n",
       "      <td>49.0</td>\n",
       "      <td>0</td>\n",
       "      <td>0</td>\n",
       "      <td>1.0</td>\n",
       "      <td>2.0</td>\n",
       "      <td>1.0</td>\n",
       "      <td>171.23</td>\n",
       "      <td>34.4</td>\n",
       "      <td>3.0</td>\n",
       "      <td>1</td>\n",
       "    </tr>\n",
       "    <tr>\n",
       "      <th>4</th>\n",
       "      <td>1665</td>\n",
       "      <td>0.0</td>\n",
       "      <td>79.0</td>\n",
       "      <td>1</td>\n",
       "      <td>0</td>\n",
       "      <td>1.0</td>\n",
       "      <td>3.0</td>\n",
       "      <td>0.0</td>\n",
       "      <td>174.12</td>\n",
       "      <td>24.0</td>\n",
       "      <td>2.0</td>\n",
       "      <td>1</td>\n",
       "    </tr>\n",
       "    <tr>\n",
       "      <th>5</th>\n",
       "      <td>56669</td>\n",
       "      <td>1.0</td>\n",
       "      <td>81.0</td>\n",
       "      <td>0</td>\n",
       "      <td>0</td>\n",
       "      <td>1.0</td>\n",
       "      <td>2.0</td>\n",
       "      <td>1.0</td>\n",
       "      <td>186.21</td>\n",
       "      <td>29.0</td>\n",
       "      <td>1.0</td>\n",
       "      <td>1</td>\n",
       "    </tr>\n",
       "    <tr>\n",
       "      <th>6</th>\n",
       "      <td>53882</td>\n",
       "      <td>1.0</td>\n",
       "      <td>74.0</td>\n",
       "      <td>1</td>\n",
       "      <td>1</td>\n",
       "      <td>1.0</td>\n",
       "      <td>2.0</td>\n",
       "      <td>0.0</td>\n",
       "      <td>70.09</td>\n",
       "      <td>27.4</td>\n",
       "      <td>2.0</td>\n",
       "      <td>1</td>\n",
       "    </tr>\n",
       "    <tr>\n",
       "      <th>7</th>\n",
       "      <td>10434</td>\n",
       "      <td>0.0</td>\n",
       "      <td>69.0</td>\n",
       "      <td>0</td>\n",
       "      <td>0</td>\n",
       "      <td>0.0</td>\n",
       "      <td>2.0</td>\n",
       "      <td>1.0</td>\n",
       "      <td>94.39</td>\n",
       "      <td>22.8</td>\n",
       "      <td>2.0</td>\n",
       "      <td>1</td>\n",
       "    </tr>\n",
       "    <tr>\n",
       "      <th>8</th>\n",
       "      <td>27419</td>\n",
       "      <td>0.0</td>\n",
       "      <td>59.0</td>\n",
       "      <td>0</td>\n",
       "      <td>0</td>\n",
       "      <td>1.0</td>\n",
       "      <td>2.0</td>\n",
       "      <td>0.0</td>\n",
       "      <td>76.15</td>\n",
       "      <td>28.0</td>\n",
       "      <td>0.0</td>\n",
       "      <td>1</td>\n",
       "    </tr>\n",
       "    <tr>\n",
       "      <th>9</th>\n",
       "      <td>60491</td>\n",
       "      <td>0.0</td>\n",
       "      <td>78.0</td>\n",
       "      <td>0</td>\n",
       "      <td>0</td>\n",
       "      <td>1.0</td>\n",
       "      <td>2.0</td>\n",
       "      <td>1.0</td>\n",
       "      <td>58.57</td>\n",
       "      <td>24.2</td>\n",
       "      <td>0.0</td>\n",
       "      <td>1</td>\n",
       "    </tr>\n",
       "  </tbody>\n",
       "</table>\n",
       "</div>"
      ],
      "text/plain": [
       "      id  gender   age  hypertension  heart_disease  ever_married  work_type  \\\n",
       "0   9046     1.0  67.0             0              1           1.0        2.0   \n",
       "1  51676     0.0  61.0             0              0           1.0        3.0   \n",
       "2  31112     1.0  80.0             0              1           1.0        2.0   \n",
       "3  60182     0.0  49.0             0              0           1.0        2.0   \n",
       "4   1665     0.0  79.0             1              0           1.0        3.0   \n",
       "5  56669     1.0  81.0             0              0           1.0        2.0   \n",
       "6  53882     1.0  74.0             1              1           1.0        2.0   \n",
       "7  10434     0.0  69.0             0              0           0.0        2.0   \n",
       "8  27419     0.0  59.0             0              0           1.0        2.0   \n",
       "9  60491     0.0  78.0             0              0           1.0        2.0   \n",
       "\n",
       "   Residence_type  avg_glucose_level   bmi  smoking_status  stroke  \n",
       "0             1.0             228.69  36.6             1.0       1  \n",
       "1             0.0             202.21  28.0             2.0       1  \n",
       "2             0.0             105.92  32.5             2.0       1  \n",
       "3             1.0             171.23  34.4             3.0       1  \n",
       "4             0.0             174.12  24.0             2.0       1  \n",
       "5             1.0             186.21  29.0             1.0       1  \n",
       "6             0.0              70.09  27.4             2.0       1  \n",
       "7             1.0              94.39  22.8             2.0       1  \n",
       "8             0.0              76.15  28.0             0.0       1  \n",
       "9             1.0              58.57  24.2             0.0       1  "
      ]
     },
     "execution_count": 43,
     "metadata": {},
     "output_type": "execute_result"
    }
   ],
   "source": [
    "health.head(10)"
   ]
  },
  {
   "cell_type": "code",
   "execution_count": 45,
   "id": "9ad5c9c8-0890-4326-9b63-d3464b75b428",
   "metadata": {},
   "outputs": [
    {
     "name": "stdout",
     "output_type": "stream",
     "text": [
      "<class 'pandas.core.frame.DataFrame'>\n",
      "RangeIndex: 5110 entries, 0 to 5109\n",
      "Data columns (total 12 columns):\n",
      " #   Column             Non-Null Count  Dtype  \n",
      "---  ------             --------------  -----  \n",
      " 0   id                 5110 non-null   int64  \n",
      " 1   gender             5110 non-null   float64\n",
      " 2   age                5110 non-null   float64\n",
      " 3   hypertension       5110 non-null   int64  \n",
      " 4   heart_disease      5110 non-null   int64  \n",
      " 5   ever_married       5110 non-null   float64\n",
      " 6   work_type          5110 non-null   float64\n",
      " 7   Residence_type     5110 non-null   float64\n",
      " 8   avg_glucose_level  5110 non-null   float64\n",
      " 9   bmi                5110 non-null   float64\n",
      " 10  smoking_status     5110 non-null   float64\n",
      " 11  stroke             5110 non-null   int64  \n",
      "dtypes: float64(8), int64(4)\n",
      "memory usage: 479.2 KB\n"
     ]
    }
   ],
   "source": [
    "health.info()"
   ]
  },
  {
   "cell_type": "code",
   "execution_count": 47,
   "id": "2b19f049-1b7f-459d-912d-ec996b3c7790",
   "metadata": {},
   "outputs": [
    {
     "data": {
      "text/plain": [
       "stroke\n",
       "0    4861\n",
       "1     249\n",
       "Name: count, dtype: int64"
      ]
     },
     "execution_count": 47,
     "metadata": {},
     "output_type": "execute_result"
    }
   ],
   "source": [
    "health['stroke'].value_counts()"
   ]
  },
  {
   "cell_type": "code",
   "execution_count": 49,
   "id": "018919d0-cdb8-433e-8722-b9c3735ce3a4",
   "metadata": {},
   "outputs": [
    {
     "data": {
      "text/plain": [
       "smoking_status\n",
       "2.0    1892\n",
       "0.0    1544\n",
       "1.0     885\n",
       "3.0     789\n",
       "Name: count, dtype: int64"
      ]
     },
     "execution_count": 49,
     "metadata": {},
     "output_type": "execute_result"
    }
   ],
   "source": [
    "health['smoking_status'].value_counts()"
   ]
  },
  {
   "cell_type": "code",
   "execution_count": 71,
   "id": "99c035c7-77e7-4a7f-80da-4c11ff879e08",
   "metadata": {},
   "outputs": [],
   "source": [
    "from sklearn.utils import resample"
   ]
  },
  {
   "cell_type": "code",
   "execution_count": 73,
   "id": "2354d0a5-fd58-40c9-887c-55080b8d76c2",
   "metadata": {},
   "outputs": [],
   "source": [
    "df_major = health[(health['stroke'] == 0)]   # Majority class (no stroke)\n",
    "df_minor = health[(health['stroke'] == 1)]   # Minority class (stroke)\n",
    "\n",
    "df_minor_resmapled = resample(\n",
    "    df_minor,\n",
    "    replace=True,          # Sample with replacement (bootstrap sampling)\n",
    "    n_samples=4861,        # Make minority class size equal to majority (here 4861 rows)\n",
    "    random_state=42        # Fix randomness for reproducibility\n",
    ")\n",
    "\n",
    "df_resampled = pd.concat([df_minor_resmapled, df_major])  # Combine into balanced dataset"
   ]
  },
  {
   "cell_type": "markdown",
   "id": "d36188b8-4b4d-4227-9ed0-5319def474f1",
   "metadata": {},
   "source": [
    "#### When you use upsampling with resample(..., replace=True), you’re not creating brand-new “fake” data in the sense of inventing new features. So what’s actually happening is:\n",
    "\n",
    "#### You take the existing minority-class rows (stroke = 1).\n",
    "\n",
    "#### You randomly pick rows from that group, allowing duplicates (replace=True).\n",
    "\n",
    "#### You add these duplicated rows to the dataset until the minority class matches the majority class size.\n",
    "\n",
    "#### So technically, you’re duplicating real data points rather than generating new synthetic ones. It’s a standard technique to balance datasets for machine learning so the model doesn’t just always predict the majority class."
   ]
  },
  {
   "cell_type": "code",
   "execution_count": 75,
   "id": "cce0d0ad-02b5-4d95-9d0e-1e913cc8b56c",
   "metadata": {},
   "outputs": [
    {
     "data": {
      "image/png": "[encoded data removed]",
      "text/plain": [
       "<Figure size 640x480 with 1 Axes>"
      ]
     },
     "metadata": {},
     "output_type": "display_data"
    }
   ],
   "source": [
    "import seaborn as sns\n",
    "import matplotlib.pyplot as plt\n",
    "\n",
    "sns.countplot(x='stroke', data=df_resampled)\n",
    "plt.title('Distribution of Stroke Cases')\n",
    "plt.xlabel('Stroke (0 = No, 1 = Yes)')\n",
    "plt.ylabel('Count')\n",
    "plt.show()"
   ]
  },
  {
   "cell_type": "markdown",
   "id": "7692f204-62d0-42d8-8791-72a7024cb3ff",
   "metadata": {},
   "source": [
    "#### Creates a bar plot to check that the resampling worked. Roughly equal counts of 0 (no stroke) and 1 (stroke).\n",
    "#### Creates a heatmap of correlations between all numeric features in the resampled dataset.\n",
    "#### Darker/brighter colors = stronger positive/negative correlation.\n",
    "#### Explores relationships between variables using a correlation heatmap.\n",
    "#### Age, hypertension, heart disease, glucose level stand out as potentially useful predictors.\n",
    "#### Variables like residence type or gender don’t show much linear correlation with stroke."
   ]
  },
  {
   "cell_type": "code",
   "execution_count": 67,
   "id": "5fab979f-fc01-42ca-8ded-0b9ebd962a56",
   "metadata": {},
   "outputs": [
    {
     "data": {
      "text/plain": [
       "<Axes: >"
      ]
     },
     "execution_count": 67,
     "metadata": {},
     "output_type": "execute_result"
    },
    {
     "data": {
      "image/png": "[encoded data removed]",
      "text/plain": [
       "<Figure size 640x480 with 2 Axes>"
      ]
     },
     "metadata": {},
     "output_type": "display_data"
    }
   ],
   "source": [
    "sns.heatmap(df_resampled.corr(), fmt='.2g')"
   ]
  },
  {
   "cell_type": "code",
   "execution_count": 93,
   "id": "60cc2429-ee88-4aea-a579-dbacfb57ff6d",
   "metadata": {},
   "outputs": [
    {
     "name": "stderr",
     "output_type": "stream",
     "text": [
      "C:\\Users\\PC\\anaconda3\\Lib\\site-packages\\xgboost\\training.py:183: UserWarning: [22:46:40] WARNING: C:\\actions-runner\\_work\\xgboost\\xgboost\\src\\learner.cc:738: \n",
      "Parameters: { \"use_label_encoder\" } are not used.\n",
      "\n",
      "  bst.update(dtrain, iteration=i, fobj=obj)\n",
      "C:\\Users\\PC\\anaconda3\\Lib\\site-packages\\xgboost\\training.py:183: UserWarning: [22:46:41] WARNING: C:\\actions-runner\\_work\\xgboost\\xgboost\\src\\learner.cc:738: \n",
      "Parameters: { \"use_label_encoder\" } are not used.\n",
      "\n",
      "  bst.update(dtrain, iteration=i, fobj=obj)\n",
      "C:\\Users\\PC\\anaconda3\\Lib\\site-packages\\xgboost\\training.py:183: UserWarning: [22:46:42] WARNING: C:\\actions-runner\\_work\\xgboost\\xgboost\\src\\learner.cc:738: \n",
      "Parameters: { \"use_label_encoder\" } are not used.\n",
      "\n",
      "  bst.update(dtrain, iteration=i, fobj=obj)\n",
      "C:\\Users\\PC\\anaconda3\\Lib\\site-packages\\xgboost\\training.py:183: UserWarning: [22:46:42] WARNING: C:\\actions-runner\\_work\\xgboost\\xgboost\\src\\learner.cc:738: \n",
      "Parameters: { \"use_label_encoder\" } are not used.\n",
      "\n",
      "  bst.update(dtrain, iteration=i, fobj=obj)\n",
      "C:\\Users\\PC\\anaconda3\\Lib\\site-packages\\xgboost\\training.py:183: UserWarning: [22:46:43] WARNING: C:\\actions-runner\\_work\\xgboost\\xgboost\\src\\learner.cc:738: \n",
      "Parameters: { \"use_label_encoder\" } are not used.\n",
      "\n",
      "  bst.update(dtrain, iteration=i, fobj=obj)\n"
     ]
    },
    {
     "name": "stdout",
     "output_type": "stream",
     "text": [
      "Cross-validation results saved to 'xgboost_cv_results.csv'\n",
      "Patients predicted to have stroke saved to 'patients_predicted_stroke.csv'\n",
      "\n",
      "=== Cross-Validated Accuracy ===\n",
      "Mean Accuracy: 0.8403621187597194\n",
      "Standard Deviation: 0.002068239319277195\n"
     ]
    },
    {
     "data": {
      "text/plain": [
       "<Figure size 800x600 with 0 Axes>"
      ]
     },
     "metadata": {},
     "output_type": "display_data"
    },
    {
     "data": {
      "image/png": "[encoded data removed]",
      "text/plain": [
       "<Figure size 640x480 with 1 Axes>"
      ]
     },
     "metadata": {},
     "output_type": "display_data"
    }
   ],
   "source": [
    "import numpy as np\n",
    "from xgboost import XGBClassifier, plot_importance\n",
    "from sklearn.model_selection import StratifiedKFold\n",
    "from sklearn.metrics import accuracy_score, classification_report, confusion_matrix\n",
    "import matplotlib.pyplot as plt\n",
    "\n",
    "# ------------------------------\n",
    "# Features, target, and ID\n",
    "# ------------------------------\n",
    "ids = df_resampled['id']                     # Keep IDs for output\n",
    "X = df_resampled.drop(['stroke', 'id'], axis=1)  # Features only\n",
    "y = df_resampled['stroke']\n",
    "\n",
    "# ------------------------------\n",
    "# Initialize XGBoost model\n",
    "# ------------------------------\n",
    "model = XGBClassifier(\n",
    "    n_estimators=100,\n",
    "    learning_rate=0.1,\n",
    "    max_depth=3,\n",
    "    random_state=42,\n",
    "    use_label_encoder=False,\n",
    "    eval_metric='logloss'\n",
    ")\n",
    "\n",
    "# ------------------------------\n",
    "# Stratified K-Fold Cross-Validation\n",
    "# ------------------------------\n",
    "cv = StratifiedKFold(n_splits=5, shuffle=True, random_state=42)\n",
    "\n",
    "results = []            # To store fold metrics\n",
    "all_predictions = []    # To store patient-level predictions\n",
    "accuracy_list = []\n",
    "fold = 1\n",
    "\n",
    "for train_idx, test_idx in cv.split(X, y):\n",
    "    X_train, X_test = X.iloc[train_idx], X.iloc[test_idx]\n",
    "    y_train, y_test = y.iloc[train_idx], y.iloc[test_idx]\n",
    "    \n",
    "    # Train the model\n",
    "    model.fit(X_train, y_train)\n",
    "    \n",
    "    # Predictions\n",
    "    y_pred = model.predict(X_test)\n",
    "    \n",
    "    # Accuracy and metrics\n",
    "    acc = accuracy_score(y_test, y_pred)\n",
    "    accuracy_list.append(acc)\n",
    "    report = classification_report(y_test, y_pred, output_dict=True)\n",
    "    cm = confusion_matrix(y_test, y_pred)\n",
    "    \n",
    "    # Store fold metrics\n",
    "    results.append({\n",
    "        'Fold': fold,\n",
    "        'Accuracy': acc,\n",
    "        'Precision_NoStroke': report['0']['precision'],\n",
    "        'Recall_NoStroke': report['0']['recall'],\n",
    "        'F1_NoStroke': report['0']['f1-score'],\n",
    "        'Precision_Stroke': report['1']['precision'],\n",
    "        'Recall_Stroke': report['1']['recall'],\n",
    "        'F1_Stroke': report['1']['f1-score'],\n",
    "        'TN': cm[0,0],\n",
    "        'FP': cm[0,1],\n",
    "        'FN': cm[1,0],\n",
    "        'TP': cm[1,1]\n",
    "    })\n",
    "    \n",
    "    # Store patient-level predictions with ID\n",
    "    fold_predictions = X_test.copy()\n",
    "    fold_predictions['id'] = df_resampled.iloc[test_idx]['id'].values\n",
    "    fold_predictions['stroke_true'] = y_test.values\n",
    "    fold_predictions['stroke_pred'] = y_pred\n",
    "    all_predictions.append(fold_predictions)\n",
    "    \n",
    "    fold += 1\n",
    "\n",
    "# --------------------------\n",
    "# Save cross-validation metrics\n",
    "# ------------------------------\n",
    "results_df = pd.DataFrame(results)\n",
    "\n",
    "# Round to 2 decimal places\n",
    "results_df = results_df.round(2)\n",
    "\n",
    "results_df.to_csv('Data/xgboost_cv_results.csv', index=False)\n",
    "print(\"Cross-validation results saved to 'xgboost_cv_results.csv'\")\n",
    "\n",
    "# ------------------------------\n",
    "# Combine all patient predictions\n",
    "# ------------------------------\n",
    "all_predictions_df = pd.concat(all_predictions)\n",
    "\n",
    "# Filter patients predicted as stroke\n",
    "stroke_predictions_df = all_predictions_df[all_predictions_df['stroke_pred'] == 1]\n",
    "\n",
    "# Save to CSV\n",
    "stroke_predictions_df.to_csv('Data/patients_predicted_stroke.csv', index=False)\n",
    "print(\"Patients predicted to have stroke saved to 'patients_predicted_stroke.csv'\")\n",
    "\n",
    "# ------------------------------\n",
    "# Cross-validated summary\n",
    "# ------------------------------\n",
    "print(\"\\n=== Cross-Validated Accuracy ===\")\n",
    "print(\"Mean Accuracy:\", np.mean(accuracy_list))\n",
    "print(\"Standard Deviation:\", np.std(accuracy_list))\n",
    "\n",
    "# ------------------------------\n",
    "# Feature importance (optional)\n",
    "# ------------------------------\n",
    "plt.figure(figsize=(8,6))\n",
    "plot_importance(model, max_num_features=10)\n",
    "plt.title(\"Top 10 Feature Importances\")\n",
    "plt.show()"
   ]
  },
  {
   "cell_type": "code",
   "execution_count": null,
   "id": "23ffb923-cff5-47dd-bba0-6a4a63db6481",
   "metadata": {},
   "outputs": [],
   "source": []
  }
 ],
 "metadata": {
  "kernelspec": {
   "display_name": "Python 3 (ipykernel)",
   "language": "python",
   "name": "python3"
  },
  "language_info": {
   "codemirror_mode": {
    "name": "ipython",
    "version": 3
   },
   "file_extension": ".py",
   "mimetype": "text/x-python",
   "name": "python",
   "nbconvert_exporter": "python",
   "pygments_lexer": "ipython3",
   "version": "3.12.4"
  }
 },
 "nbformat": 4,
 "nbformat_minor": 5
}
